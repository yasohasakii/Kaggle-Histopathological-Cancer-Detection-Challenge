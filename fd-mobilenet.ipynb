{
  "nbformat": 4,
  "nbformat_minor": 0,
  "metadata": {
    "kernelspec": {
      "name": "python3",
      "display_name": "Python 3"
    },
    "language_info": {
      "codemirror_mode": {
        "name": "ipython",
        "version": 3
      },
      "file_extension": ".py",
      "mimetype": "text/x-python",
      "name": "python",
      "nbconvert_exporter": "python",
      "pygments_lexer": "ipython3",
      "version": "3.6.6"
    },
    "colab": {
      "name": "fd-mobilenet.ipynb",
      "provenance": []
    },
    "accelerator": "GPU"
  },
  "cells": [
    {
      "cell_type": "code",
      "metadata": {
        "_uuid": "ca2b2d2fad40d0d1113e4fd950a3cdf7c29f62f9",
        "id": "e8ADZj0EJKLG",
        "colab_type": "code",
        "colab": {
          "base_uri": "https://localhost:8080/",
          "height": 921
        },
        "outputId": "15d26789-e83a-443a-e678-063f4d9e0681"
      },
      "source": [
        "!pip install albumentations \n",
        "!pip install kerascv mxnet "
      ],
      "execution_count": 1,
      "outputs": [
        {
          "output_type": "stream",
          "text": [
            "Requirement already satisfied: albumentations in /usr/local/lib/python3.6/dist-packages (0.1.12)\n",
            "Requirement already satisfied: scipy in /usr/local/lib/python3.6/dist-packages (from albumentations) (1.3.1)\n",
            "Collecting imgaug<0.2.7,>=0.2.5 (from albumentations)\n",
            "\u001b[?25l  Downloading https://files.pythonhosted.org/packages/ad/2e/748dbb7bb52ec8667098bae9b585f448569ae520031932687761165419a2/imgaug-0.2.6.tar.gz (631kB)\n",
            "\r\u001b[K     |▌                               | 10kB 16.8MB/s eta 0:00:01\r\u001b[K     |█                               | 20kB 1.5MB/s eta 0:00:01\r\u001b[K     |█▋                              | 30kB 2.2MB/s eta 0:00:01\r\u001b[K     |██                              | 40kB 1.5MB/s eta 0:00:01\r\u001b[K     |██▋                             | 51kB 1.9MB/s eta 0:00:01\r\u001b[K     |███▏                            | 61kB 2.3MB/s eta 0:00:01\r\u001b[K     |███▋                            | 71kB 2.6MB/s eta 0:00:01\r\u001b[K     |████▏                           | 81kB 3.0MB/s eta 0:00:01\r\u001b[K     |████▊                           | 92kB 3.4MB/s eta 0:00:01\r\u001b[K     |█████▏                          | 102kB 2.6MB/s eta 0:00:01\r\u001b[K     |█████▊                          | 112kB 2.6MB/s eta 0:00:01\r\u001b[K     |██████▎                         | 122kB 2.6MB/s eta 0:00:01\r\u001b[K     |██████▊                         | 133kB 2.6MB/s eta 0:00:01\r\u001b[K     |███████▎                        | 143kB 2.6MB/s eta 0:00:01\r\u001b[K     |███████▉                        | 153kB 2.6MB/s eta 0:00:01\r\u001b[K     |████████▎                       | 163kB 2.6MB/s eta 0:00:01\r\u001b[K     |████████▉                       | 174kB 2.6MB/s eta 0:00:01\r\u001b[K     |█████████▍                      | 184kB 2.6MB/s eta 0:00:01\r\u001b[K     |█████████▉                      | 194kB 2.6MB/s eta 0:00:01\r\u001b[K     |██████████▍                     | 204kB 2.6MB/s eta 0:00:01\r\u001b[K     |███████████                     | 215kB 2.6MB/s eta 0:00:01\r\u001b[K     |███████████▍                    | 225kB 2.6MB/s eta 0:00:01\r\u001b[K     |████████████                    | 235kB 2.6MB/s eta 0:00:01\r\u001b[K     |████████████▌                   | 245kB 2.6MB/s eta 0:00:01\r\u001b[K     |█████████████                   | 256kB 2.6MB/s eta 0:00:01\r\u001b[K     |█████████████▌                  | 266kB 2.6MB/s eta 0:00:01\r\u001b[K     |██████████████                  | 276kB 2.6MB/s eta 0:00:01\r\u001b[K     |██████████████▌                 | 286kB 2.6MB/s eta 0:00:01\r\u001b[K     |███████████████                 | 296kB 2.6MB/s eta 0:00:01\r\u001b[K     |███████████████▋                | 307kB 2.6MB/s eta 0:00:01\r\u001b[K     |████████████████                | 317kB 2.6MB/s eta 0:00:01\r\u001b[K     |████████████████▋               | 327kB 2.6MB/s eta 0:00:01\r\u001b[K     |█████████████████▏              | 337kB 2.6MB/s eta 0:00:01\r\u001b[K     |█████████████████▋              | 348kB 2.6MB/s eta 0:00:01\r\u001b[K     |██████████████████▏             | 358kB 2.6MB/s eta 0:00:01\r\u001b[K     |██████████████████▊             | 368kB 2.6MB/s eta 0:00:01\r\u001b[K     |███████████████████▏            | 378kB 2.6MB/s eta 0:00:01\r\u001b[K     |███████████████████▊            | 389kB 2.6MB/s eta 0:00:01\r\u001b[K     |████████████████████▎           | 399kB 2.6MB/s eta 0:00:01\r\u001b[K     |████████████████████▊           | 409kB 2.6MB/s eta 0:00:01\r\u001b[K     |█████████████████████▎          | 419kB 2.6MB/s eta 0:00:01\r\u001b[K     |█████████████████████▉          | 430kB 2.6MB/s eta 0:00:01\r\u001b[K     |██████████████████████▎         | 440kB 2.6MB/s eta 0:00:01\r\u001b[K     |██████████████████████▉         | 450kB 2.6MB/s eta 0:00:01\r\u001b[K     |███████████████████████▍        | 460kB 2.6MB/s eta 0:00:01\r\u001b[K     |███████████████████████▉        | 471kB 2.6MB/s eta 0:00:01\r\u001b[K     |████████████████████████▍       | 481kB 2.6MB/s eta 0:00:01\r\u001b[K     |█████████████████████████       | 491kB 2.6MB/s eta 0:00:01\r\u001b[K     |█████████████████████████▍      | 501kB 2.6MB/s eta 0:00:01\r\u001b[K     |██████████████████████████      | 512kB 2.6MB/s eta 0:00:01\r\u001b[K     |██████████████████████████▌     | 522kB 2.6MB/s eta 0:00:01\r\u001b[K     |███████████████████████████     | 532kB 2.6MB/s eta 0:00:01\r\u001b[K     |███████████████████████████▌    | 542kB 2.6MB/s eta 0:00:01\r\u001b[K     |████████████████████████████    | 552kB 2.6MB/s eta 0:00:01\r\u001b[K     |████████████████████████████▌   | 563kB 2.6MB/s eta 0:00:01\r\u001b[K     |█████████████████████████████   | 573kB 2.6MB/s eta 0:00:01\r\u001b[K     |█████████████████████████████▋  | 583kB 2.6MB/s eta 0:00:01\r\u001b[K     |██████████████████████████████  | 593kB 2.6MB/s eta 0:00:01\r\u001b[K     |██████████████████████████████▋ | 604kB 2.6MB/s eta 0:00:01\r\u001b[K     |███████████████████████████████▏| 614kB 2.6MB/s eta 0:00:01\r\u001b[K     |███████████████████████████████▋| 624kB 2.6MB/s eta 0:00:01\r\u001b[K     |████████████████████████████████| 634kB 2.6MB/s \n",
            "\u001b[?25hRequirement already satisfied: numpy>=1.11.1 in /usr/local/lib/python3.6/dist-packages (from albumentations) (1.16.5)\n",
            "Requirement already satisfied: opencv-python in /usr/local/lib/python3.6/dist-packages (from albumentations) (3.4.7.28)\n",
            "Requirement already satisfied: scikit-image>=0.11.0 in /usr/local/lib/python3.6/dist-packages (from imgaug<0.2.7,>=0.2.5->albumentations) (0.15.0)\n",
            "Requirement already satisfied: six in /usr/local/lib/python3.6/dist-packages (from imgaug<0.2.7,>=0.2.5->albumentations) (1.12.0)\n",
            "Requirement already satisfied: PyWavelets>=0.4.0 in /usr/local/lib/python3.6/dist-packages (from scikit-image>=0.11.0->imgaug<0.2.7,>=0.2.5->albumentations) (1.0.3)\n",
            "Requirement already satisfied: matplotlib!=3.0.0,>=2.0.0 in /usr/local/lib/python3.6/dist-packages (from scikit-image>=0.11.0->imgaug<0.2.7,>=0.2.5->albumentations) (3.0.3)\n",
            "Requirement already satisfied: pillow>=4.3.0 in /usr/local/lib/python3.6/dist-packages (from scikit-image>=0.11.0->imgaug<0.2.7,>=0.2.5->albumentations) (4.3.0)\n",
            "Requirement already satisfied: imageio>=2.0.1 in /usr/local/lib/python3.6/dist-packages (from scikit-image>=0.11.0->imgaug<0.2.7,>=0.2.5->albumentations) (2.4.1)\n",
            "Requirement already satisfied: networkx>=2.0 in /usr/local/lib/python3.6/dist-packages (from scikit-image>=0.11.0->imgaug<0.2.7,>=0.2.5->albumentations) (2.4)\n",
            "Requirement already satisfied: cycler>=0.10 in /usr/local/lib/python3.6/dist-packages (from matplotlib!=3.0.0,>=2.0.0->scikit-image>=0.11.0->imgaug<0.2.7,>=0.2.5->albumentations) (0.10.0)\n",
            "Requirement already satisfied: pyparsing!=2.0.4,!=2.1.2,!=2.1.6,>=2.0.1 in /usr/local/lib/python3.6/dist-packages (from matplotlib!=3.0.0,>=2.0.0->scikit-image>=0.11.0->imgaug<0.2.7,>=0.2.5->albumentations) (2.4.2)\n",
            "Requirement already satisfied: python-dateutil>=2.1 in /usr/local/lib/python3.6/dist-packages (from matplotlib!=3.0.0,>=2.0.0->scikit-image>=0.11.0->imgaug<0.2.7,>=0.2.5->albumentations) (2.5.3)\n",
            "Requirement already satisfied: kiwisolver>=1.0.1 in /usr/local/lib/python3.6/dist-packages (from matplotlib!=3.0.0,>=2.0.0->scikit-image>=0.11.0->imgaug<0.2.7,>=0.2.5->albumentations) (1.1.0)\n",
            "Requirement already satisfied: olefile in /usr/local/lib/python3.6/dist-packages (from pillow>=4.3.0->scikit-image>=0.11.0->imgaug<0.2.7,>=0.2.5->albumentations) (0.46)\n",
            "Requirement already satisfied: decorator>=4.3.0 in /usr/local/lib/python3.6/dist-packages (from networkx>=2.0->scikit-image>=0.11.0->imgaug<0.2.7,>=0.2.5->albumentations) (4.4.0)\n",
            "Requirement already satisfied: setuptools in /usr/local/lib/python3.6/dist-packages (from kiwisolver>=1.0.1->matplotlib!=3.0.0,>=2.0.0->scikit-image>=0.11.0->imgaug<0.2.7,>=0.2.5->albumentations) (41.4.0)\n",
            "Building wheels for collected packages: imgaug\n",
            "  Building wheel for imgaug (setup.py) ... \u001b[?25l\u001b[?25hdone\n",
            "  Created wheel for imgaug: filename=imgaug-0.2.6-cp36-none-any.whl size=654020 sha256=fdb16735f0a16ca75c729fa1bf957668b8aa55757124a9c63bfcd343dbb5f3e2\n",
            "  Stored in directory: /root/.cache/pip/wheels/97/ec/48/0d25896c417b715af6236dbcef8f0bed136a1a5e52972fc6d0\n",
            "Successfully built imgaug\n",
            "Installing collected packages: imgaug\n",
            "  Found existing installation: imgaug 0.2.9\n",
            "    Uninstalling imgaug-0.2.9:\n",
            "      Successfully uninstalled imgaug-0.2.9\n",
            "Successfully installed imgaug-0.2.6\n",
            "Collecting kerascv\n",
            "\u001b[?25l  Downloading https://files.pythonhosted.org/packages/5a/a2/ae7eecb9114c51417411490322211c4f0f70515770110465f5148d3778df/kerascv-0.0.37-py2.py3-none-any.whl (95kB)\n",
            "\u001b[K     |████████████████████████████████| 102kB 8.2MB/s \n",
            "\u001b[?25hCollecting mxnet\n",
            "\u001b[?25l  Downloading https://files.pythonhosted.org/packages/92/6c/c6e5562f8face683cec73f5d4d74a58f8572c0595d54f1fed9d923020bbd/mxnet-1.5.1.post0-py2.py3-none-manylinux1_x86_64.whl (25.4MB)\n",
            "\u001b[K     |████████████████████████████████| 25.4MB 1.7MB/s \n",
            "\u001b[?25hRequirement already satisfied: h5py in /usr/local/lib/python3.6/dist-packages (from kerascv) (2.8.0)\n",
            "Collecting graphviz<0.9.0,>=0.8.1 (from mxnet)\n",
            "  Downloading https://files.pythonhosted.org/packages/53/39/4ab213673844e0c004bed8a0781a0721a3f6bb23eb8854ee75c236428892/graphviz-0.8.4-py2.py3-none-any.whl\n",
            "Requirement already satisfied: requests<3,>=2.20.0 in /usr/local/lib/python3.6/dist-packages (from mxnet) (2.21.0)\n",
            "Requirement already satisfied: numpy<2.0.0,>1.16.0 in /usr/local/lib/python3.6/dist-packages (from mxnet) (1.16.5)\n",
            "Requirement already satisfied: six in /usr/local/lib/python3.6/dist-packages (from h5py->kerascv) (1.12.0)\n",
            "Requirement already satisfied: urllib3<1.25,>=1.21.1 in /usr/local/lib/python3.6/dist-packages (from requests<3,>=2.20.0->mxnet) (1.24.3)\n",
            "Requirement already satisfied: certifi>=2017.4.17 in /usr/local/lib/python3.6/dist-packages (from requests<3,>=2.20.0->mxnet) (2019.9.11)\n",
            "Requirement already satisfied: idna<2.9,>=2.5 in /usr/local/lib/python3.6/dist-packages (from requests<3,>=2.20.0->mxnet) (2.8)\n",
            "Requirement already satisfied: chardet<3.1.0,>=3.0.2 in /usr/local/lib/python3.6/dist-packages (from requests<3,>=2.20.0->mxnet) (3.0.4)\n",
            "Installing collected packages: kerascv, graphviz, mxnet\n",
            "  Found existing installation: graphviz 0.10.1\n",
            "    Uninstalling graphviz-0.10.1:\n",
            "      Successfully uninstalled graphviz-0.10.1\n",
            "Successfully installed graphviz-0.8.4 kerascv-0.0.37 mxnet-1.5.1.post0\n"
          ],
          "name": "stdout"
        }
      ]
    },
    {
      "cell_type": "code",
      "metadata": {
        "id": "3iqmwjcFJZ4H",
        "colab_type": "code",
        "colab": {}
      },
      "source": [
        "!git clone https://github.com/yasohasakii/kaggle_histopathologic_cancer_detection.git\n",
        "!pip install kaggle\n",
        "!mkdir ~/.kaggle\n",
        "!cp kaggle_histopathologic_cancer_detection/kaggle.json ~/.kaggle/kaggle.json\n",
        "!rm -rf kaggle_histopathologic_cancer_detection sample_data\n",
        "!kaggle competitions download -c histopathologic-cancer-detection\n",
        "!mkdir test\n",
        "!mkdir train\n",
        "!unzip test.zip -d test\n",
        "!unzip train.zip -d train\n",
        "!unzip sample_submission.csv.zip\n",
        "!unzip train_labels.csv.zip\n",
        "!rm *.zip"
      ],
      "execution_count": 0,
      "outputs": []
    },
    {
      "cell_type": "code",
      "metadata": {
        "_cell_guid": "b1076dfc-b9ad-4769-8c92-a6c4dae69d19",
        "_uuid": "8f2839f25d086af736a60e9eeb907d3b93b6e0e5",
        "id": "QcU_yQzoJKLO",
        "colab_type": "code",
        "colab": {
          "base_uri": "https://localhost:8080/",
          "height": 51
        },
        "outputId": "b085af42-e859-470a-c5c1-79e16c661f3a"
      },
      "source": [
        "# This Python 3 environment comes with many helpful analytics libraries installed\n",
        "# It is defined by the kaggle/python docker image: https://github.com/kaggle/docker-python\n",
        "# For example, here's several helpful packages to load in \n",
        "\n",
        "import numpy as np # linear algebra\n",
        "import pandas as pd # data processing, CSV file I/O (e.g. pd.read_csv)\n",
        "\n",
        "# Input data files are available in the \"../input/\" directory.\n",
        "# For example, running this (by clicking run or pressing Shift+Enter) will list the files in the input directory\n",
        "\n",
        "import os\n",
        "from glob import glob\n",
        "from random import shuffle\n",
        "import cv2\n",
        "import matplotlib.pyplot as plt\n",
        "from sklearn.model_selection import train_test_split\n",
        "from keras.preprocessing.image import ImageDataGenerator\n",
        "from keras.layers import Convolution1D, concatenate, SpatialDropout1D, GlobalMaxPool1D, GlobalAvgPool1D, Embedding, \\\n",
        "    Conv2D, SeparableConv1D, Add, BatchNormalization, Activation, GlobalAveragePooling2D, LeakyReLU, Flatten\n",
        "from keras.layers import Dense, Input, Dropout, MaxPooling2D, Concatenate, GlobalMaxPooling2D, GlobalAveragePooling2D, \\\n",
        "    Lambda, Multiply, LSTM, Bidirectional, PReLU, MaxPooling1D\n",
        "from keras.layers.pooling import _GlobalPooling1D\n",
        "from keras.losses import mae, sparse_categorical_crossentropy, binary_crossentropy\n",
        "from keras.models import Model\n",
        "from keras.applications.nasnet import NASNetMobile, NASNetLarge, preprocess_input\n",
        "from keras.optimizers import Adam, RMSprop\n",
        "from keras.callbacks import *\n",
        "from imgaug import augmenters as iaa\n",
        "from albumentations import Compose, RandomRotate90, Transpose, Flip, OneOf, CLAHE, IAASharpen, IAAEmboss, RandomBrightnessContrast, JpegCompression, Blur, GaussNoise, HueSaturationValue, ShiftScaleRotate, Normalize\n",
        "import imgaug as ia\n",
        "#from shufflenetv2 import ShuffleNetV2\n",
        "from kerascv.model_provider import get_model as kecv_get_model\n",
        "\n",
        "from keras.regularizers import l2\n",
        "\n",
        "print(os.listdir(\"./\"))\n",
        "\n",
        "import shutil,math\n",
        "\n",
        "# Any results you write to the current directory are saved as output."
      ],
      "execution_count": 3,
      "outputs": [
        {
          "output_type": "stream",
          "text": [
            "Using TensorFlow backend.\n"
          ],
          "name": "stderr"
        },
        {
          "output_type": "stream",
          "text": [
            "['.config', 'train_labels.csv', 'train', 'test', 'sample_submission.csv']\n"
          ],
          "name": "stdout"
        }
      ]
    },
    {
      "cell_type": "code",
      "metadata": {
        "_uuid": "085c0cdb8d9e796967f7cb9ca3aa15d42c21c5e2",
        "id": "uHa_66ZCJKLS",
        "colab_type": "code",
        "colab": {}
      },
      "source": [
        "img_size_in = 224"
      ],
      "execution_count": 0,
      "outputs": []
    },
    {
      "cell_type": "code",
      "metadata": {
        "_cell_guid": "79c7e3d0-c299-4dcb-8224-4455121ee9b0",
        "_uuid": "d629ff2d2480ee46fbb7e2d37f6b5fab8052498a",
        "id": "TuGn04WEJKLV",
        "colab_type": "code",
        "colab": {
          "base_uri": "https://localhost:8080/",
          "height": 204
        },
        "outputId": "ca89e4cd-1aed-4dc2-fd79-cc3410acfc53"
      },
      "source": [
        "df_train = pd.read_csv(\"./train_labels.csv\")\n",
        "id_label_map = {k:v for k,v in zip(df_train.id.values, df_train.label.values)}\n",
        "df_train.head()"
      ],
      "execution_count": 4,
      "outputs": [
        {
          "output_type": "execute_result",
          "data": {
            "text/html": [
              "<div>\n",
              "<style scoped>\n",
              "    .dataframe tbody tr th:only-of-type {\n",
              "        vertical-align: middle;\n",
              "    }\n",
              "\n",
              "    .dataframe tbody tr th {\n",
              "        vertical-align: top;\n",
              "    }\n",
              "\n",
              "    .dataframe thead th {\n",
              "        text-align: right;\n",
              "    }\n",
              "</style>\n",
              "<table border=\"1\" class=\"dataframe\">\n",
              "  <thead>\n",
              "    <tr style=\"text-align: right;\">\n",
              "      <th></th>\n",
              "      <th>id</th>\n",
              "      <th>label</th>\n",
              "    </tr>\n",
              "  </thead>\n",
              "  <tbody>\n",
              "    <tr>\n",
              "      <th>0</th>\n",
              "      <td>f38a6374c348f90b587e046aac6079959adf3835</td>\n",
              "      <td>0</td>\n",
              "    </tr>\n",
              "    <tr>\n",
              "      <th>1</th>\n",
              "      <td>c18f2d887b7ae4f6742ee445113fa1aef383ed77</td>\n",
              "      <td>1</td>\n",
              "    </tr>\n",
              "    <tr>\n",
              "      <th>2</th>\n",
              "      <td>755db6279dae599ebb4d39a9123cce439965282d</td>\n",
              "      <td>0</td>\n",
              "    </tr>\n",
              "    <tr>\n",
              "      <th>3</th>\n",
              "      <td>bc3f0c64fb968ff4a8bd33af6971ecae77c75e08</td>\n",
              "      <td>0</td>\n",
              "    </tr>\n",
              "    <tr>\n",
              "      <th>4</th>\n",
              "      <td>068aba587a4950175d04c680d38943fd488d6a9d</td>\n",
              "      <td>0</td>\n",
              "    </tr>\n",
              "  </tbody>\n",
              "</table>\n",
              "</div>"
            ],
            "text/plain": [
              "                                         id  label\n",
              "0  f38a6374c348f90b587e046aac6079959adf3835      0\n",
              "1  c18f2d887b7ae4f6742ee445113fa1aef383ed77      1\n",
              "2  755db6279dae599ebb4d39a9123cce439965282d      0\n",
              "3  bc3f0c64fb968ff4a8bd33af6971ecae77c75e08      0\n",
              "4  068aba587a4950175d04c680d38943fd488d6a9d      0"
            ]
          },
          "metadata": {
            "tags": []
          },
          "execution_count": 4
        }
      ]
    },
    {
      "cell_type": "code",
      "metadata": {
        "_uuid": "4c1169ec9a84704cff822b6e8ba90729d0ee383e",
        "id": "7tEIQwbyJKLY",
        "colab_type": "code",
        "colab": {}
      },
      "source": [
        "def get_id_from_file_path(file_path):\n",
        "    return file_path.split(os.path.sep)[-1].replace('.tif', '')"
      ],
      "execution_count": 0,
      "outputs": []
    },
    {
      "cell_type": "code",
      "metadata": {
        "_uuid": "4839c33e47619dfaf0f63d29bcf01ba50a96dfec",
        "id": "ky8kto8NJKLb",
        "colab_type": "code",
        "colab": {}
      },
      "source": [
        "labeled_files = glob('./train/*.tif')\n",
        "test_files = glob('./test/*.tif')"
      ],
      "execution_count": 0,
      "outputs": []
    },
    {
      "cell_type": "code",
      "metadata": {
        "_uuid": "4d3168a806b716023cef1d798b3ede847f7546ee",
        "id": "yWKT7qFXJKLe",
        "colab_type": "code",
        "colab": {
          "base_uri": "https://localhost:8080/",
          "height": 51
        },
        "outputId": "c432b330-8d0c-4371-b04e-572487551465"
      },
      "source": [
        "print(\"labeled_files size :\", len(labeled_files))\n",
        "print(\"test_files size :\", len(test_files))"
      ],
      "execution_count": 7,
      "outputs": [
        {
          "output_type": "stream",
          "text": [
            "labeled_files size : 220025\n",
            "test_files size : 57458\n"
          ],
          "name": "stdout"
        }
      ]
    },
    {
      "cell_type": "code",
      "metadata": {
        "_uuid": "af19d597affefcbb1a14e5dd0d591bb3294efb61",
        "id": "vIRE2WVcJKLh",
        "colab_type": "code",
        "colab": {}
      },
      "source": [
        "train, val = train_test_split(labeled_files, test_size=0.1, random_state=101010)"
      ],
      "execution_count": 0,
      "outputs": []
    },
    {
      "cell_type": "code",
      "metadata": {
        "_uuid": "bd67e144f327114229b410e0af43b71f45ce0d72",
        "id": "UMfAz4EyJKLk",
        "colab_type": "code",
        "colab": {}
      },
      "source": [
        "def chunker(seq, size):\n",
        "    return (seq[pos:pos + size] for pos in range(0, len(seq), size))\n",
        "\n",
        "def do_train_augmentations():\n",
        "    return Compose([\n",
        "        RandomRotate90(p=0.5),\n",
        "        Transpose(p=0.5),\n",
        "        Flip(p=0.5),\n",
        "        OneOf([CLAHE(clip_limit=2),\n",
        "              IAASharpen(),\n",
        "              IAAEmboss(),\n",
        "              RandomBrightnessContrast(),\n",
        "              JpegCompression(),\n",
        "              Blur(),\n",
        "              GaussNoise()],\n",
        "              p=0.5),\n",
        "        HueSaturationValue(p=0.5),\n",
        "        ShiftScaleRotate(shift_limit=0.15, scale_limit=0.15, rotate_limit=45, p=0.5),\n",
        "        Normalize(p=1)])\n",
        "\n",
        "\n",
        "def do_inference_aug():\n",
        "    return Compose([Normalize(p=1)], p=1)\n",
        "\n",
        "def data_gen(list_files, id_label_map_in, batch_size_in, img_size_in, aug_funtion):\n",
        "    aug = aug_funtion()\n",
        "    \n",
        "    while True:\n",
        "        shuffle(list_files)\n",
        "        for block in chunker(list_files, batch_size_in):\n",
        "\n",
        "            X = [cv2.resize(cv2.imread(x), (img_size_in, img_size_in)) for x in block]\n",
        "            X = [aug(image=x)['image'] for x in X]\n",
        "\n",
        "            Y = [id_label_map_in[get_id_from_file_path(x)] for x in block]\n",
        "\n",
        "            yield np.array(X), np.array(Y)\n",
        "    "
      ],
      "execution_count": 0,
      "outputs": []
    },
    {
      "cell_type": "code",
      "metadata": {
        "_uuid": "bcae07d4c6b095a1584000242780576307d0d286",
        "id": "KVZPa3iVJKLn",
        "colab_type": "code",
        "colab": {}
      },
      "source": [
        "def create_model(input_shape, n_out):\n",
        "    inp_mask = Input(shape=input_shape)\n",
        "    net = kecv_get_model(\"fdmobilenet_w3d4\", pretrained=True)\n",
        "    net.name = 'shufflenet'\n",
        "\n",
        "    x = net(inp_mask)\n",
        "    #x = net.output\n",
        "    #x = Flatten()(x)\n",
        "    x = Dense(512, activation=\"relu\")(x)\n",
        "    x = BatchNormalization(momentum=0.9)(x)\n",
        "    x = Dropout(0.25)(x)\n",
        "    x = Dense(128, activation=\"relu\")(x)\n",
        "    x = Dropout(0.25)(x)\n",
        "    out = Dense(n_out, activation=\"sigmoid\")(x)\n",
        "    model = Model(inputs=inp_mask, outputs=[out])\n",
        "    model.summary()    \n",
        "    return model"
      ],
      "execution_count": 0,
      "outputs": []
    },
    {
      "cell_type": "code",
      "metadata": {
        "_uuid": "0bf864cbe2060cb9798a348b5f72f67efabc7e0f",
        "id": "0hd-_xH1JKLq",
        "colab_type": "code",
        "colab": {
          "base_uri": "https://localhost:8080/",
          "height": 972
        },
        "outputId": "f47ac99d-3152-4396-b377-1feda5113c8b"
      },
      "source": [
        "model = create_model(input_shape=(img_size_in, img_size_in, 3), n_out=1)\n"
      ],
      "execution_count": 13,
      "outputs": [
        {
          "output_type": "stream",
          "text": [
            "WARNING:tensorflow:From /usr/local/lib/python3.6/dist-packages/keras/backend/tensorflow_backend.py:66: The name tf.get_default_graph is deprecated. Please use tf.compat.v1.get_default_graph instead.\n",
            "\n",
            "WARNING:tensorflow:From /usr/local/lib/python3.6/dist-packages/keras/backend/tensorflow_backend.py:541: The name tf.placeholder is deprecated. Please use tf.compat.v1.placeholder instead.\n",
            "\n",
            "WARNING:tensorflow:From /usr/local/lib/python3.6/dist-packages/keras/backend/tensorflow_backend.py:4432: The name tf.random_uniform is deprecated. Please use tf.random.uniform instead.\n",
            "\n",
            "WARNING:tensorflow:From /usr/local/lib/python3.6/dist-packages/keras/backend/tensorflow_backend.py:190: The name tf.get_default_session is deprecated. Please use tf.compat.v1.get_default_session instead.\n",
            "\n",
            "WARNING:tensorflow:From /usr/local/lib/python3.6/dist-packages/keras/backend/tensorflow_backend.py:197: The name tf.ConfigProto is deprecated. Please use tf.compat.v1.ConfigProto instead.\n",
            "\n",
            "WARNING:tensorflow:From /usr/local/lib/python3.6/dist-packages/keras/backend/tensorflow_backend.py:203: The name tf.Session is deprecated. Please use tf.compat.v1.Session instead.\n",
            "\n",
            "WARNING:tensorflow:From /usr/local/lib/python3.6/dist-packages/keras/backend/tensorflow_backend.py:207: The name tf.global_variables is deprecated. Please use tf.compat.v1.global_variables instead.\n",
            "\n",
            "WARNING:tensorflow:From /usr/local/lib/python3.6/dist-packages/keras/backend/tensorflow_backend.py:216: The name tf.is_variable_initialized is deprecated. Please use tf.compat.v1.is_variable_initialized instead.\n",
            "\n",
            "WARNING:tensorflow:From /usr/local/lib/python3.6/dist-packages/keras/backend/tensorflow_backend.py:223: The name tf.variables_initializer is deprecated. Please use tf.compat.v1.variables_initializer instead.\n",
            "\n",
            "WARNING:tensorflow:From /usr/local/lib/python3.6/dist-packages/keras/backend/tensorflow_backend.py:2041: The name tf.nn.fused_batch_norm is deprecated. Please use tf.compat.v1.nn.fused_batch_norm instead.\n",
            "\n",
            "WARNING:tensorflow:From /usr/local/lib/python3.6/dist-packages/keras/backend/tensorflow_backend.py:148: The name tf.placeholder_with_default is deprecated. Please use tf.compat.v1.placeholder_with_default instead.\n",
            "\n",
            "WARNING:tensorflow:From /usr/local/lib/python3.6/dist-packages/keras/backend/tensorflow_backend.py:4271: The name tf.nn.avg_pool is deprecated. Please use tf.nn.avg_pool2d instead.\n",
            "\n",
            "Downloading /root/.keras/models/fdmobilenet_w3d4-1601-2ea5eba9.h5.zip from https://github.com/osmr/imgclsmob/releases/download/v0.0.159/fdmobilenet_w3d4-1601-2ea5eba9.h5.zip...\n",
            "WARNING:tensorflow:From /usr/local/lib/python3.6/dist-packages/keras/backend/tensorflow_backend.py:3733: calling dropout (from tensorflow.python.ops.nn_ops) with keep_prob is deprecated and will be removed in a future version.\n",
            "Instructions for updating:\n",
            "Please use `rate` instead of `keep_prob`. Rate should be set to `rate = 1 - keep_prob`.\n"
          ],
          "name": "stdout"
        },
        {
          "output_type": "stream",
          "text": [
            "WARNING:tensorflow:From /usr/local/lib/python3.6/dist-packages/keras/backend/tensorflow_backend.py:3733: calling dropout (from tensorflow.python.ops.nn_ops) with keep_prob is deprecated and will be removed in a future version.\n",
            "Instructions for updating:\n",
            "Please use `rate` instead of `keep_prob`. Rate should be set to `rate = 1 - keep_prob`.\n"
          ],
          "name": "stderr"
        },
        {
          "output_type": "stream",
          "text": [
            "Model: \"model_2\"\n",
            "_________________________________________________________________\n",
            "Layer (type)                 Output Shape              Param #   \n",
            "=================================================================\n",
            "input_1 (InputLayer)         (None, 224, 224, 3)       0         \n",
            "_________________________________________________________________\n",
            "shufflenet (Model)           (None, 1000)              1845112   \n",
            "_________________________________________________________________\n",
            "dense_1 (Dense)              (None, 512)               512512    \n",
            "_________________________________________________________________\n",
            "batch_normalization_1 (Batch (None, 512)               2048      \n",
            "_________________________________________________________________\n",
            "dropout_1 (Dropout)          (None, 512)               0         \n",
            "_________________________________________________________________\n",
            "dense_2 (Dense)              (None, 128)               65664     \n",
            "_________________________________________________________________\n",
            "dropout_2 (Dropout)          (None, 128)               0         \n",
            "_________________________________________________________________\n",
            "dense_3 (Dense)              (None, 1)                 129       \n",
            "=================================================================\n",
            "Total params: 2,425,465\n",
            "Trainable params: 2,412,633\n",
            "Non-trainable params: 12,832\n",
            "_________________________________________________________________\n"
          ],
          "name": "stdout"
        }
      ]
    },
    {
      "cell_type": "code",
      "metadata": {
        "_uuid": "8334bbf852c9a1a36da98389c9fe41b5ccff6c25",
        "id": "L5N2gRO6JKLt",
        "colab_type": "code",
        "colab": {}
      },
      "source": [
        "import shutil,math\n",
        "#-----In case you want to use a learning rate scheduler from keras this is a good step decay function to play around with-----#\n",
        "def step_decay(epoch):\n",
        "    initial_lrate=1e-4\n",
        "    drop=0.6\n",
        "    epochs_drop = 3.0\n",
        "    lrate= initial_lrate * math.pow(drop,math.floor((1+epoch)/epochs_drop))\n",
        "    return lrate"
      ],
      "execution_count": 0,
      "outputs": []
    },
    {
      "cell_type": "code",
      "metadata": {
        "_uuid": "1a15784bebe57625bf3ae311f272d7016dc9c976",
        "id": "v_sFUVCSJKLw",
        "colab_type": "code",
        "colab": {}
      },
      "source": [
        "#-------Callbacks-------------#\n",
        "h5_path = \"model.h5\"\n",
        "checkpoint = ModelCheckpoint(h5_path, \n",
        "                             monitor='val_acc', \n",
        "                             verbose=1, \n",
        "                             save_best_only=True,\n",
        "                             save_weights_only=True,\n",
        "                             mode='max')\n",
        "\n",
        "earlystop = EarlyStopping(\n",
        "    monitor='val_loss',\n",
        "    min_delta=0.001,\n",
        "    patience=10,\n",
        "    verbose=1,\n",
        "    mode='auto'\n",
        ")\n",
        "\n",
        "lrsched = LearningRateScheduler(step_decay,verbose=1)\n",
        "\n",
        "callbacks = [checkpoint,lrsched]"
      ],
      "execution_count": 0,
      "outputs": []
    },
    {
      "cell_type": "code",
      "metadata": {
        "_uuid": "db0b06f165a011723aef4266bf1be50b977268c5",
        "id": "LxVdCltiJKLz",
        "colab_type": "code",
        "colab": {
          "base_uri": "https://localhost:8080/",
          "height": 153
        },
        "outputId": "ed56dac8-e7f5-4f9a-bcb8-3ac2dc8788a6"
      },
      "source": [
        "batch_size=32\n",
        "\n",
        "h5_path = \"FD-MobileNet_model.h5\"\n",
        "checkpoint = ModelCheckpoint(h5_path, monitor='val_acc', verbose=1, save_best_only=True,save_weights_only=True,mode='max')\n",
        "\n",
        "\n",
        "for layer in model.layers:\n",
        "    layer.trainable = False\n",
        "    \n",
        "model.layers[-1].trainable = True\n",
        "model.layers[-2].trainable = True\n",
        "model.layers[-3].trainable = True\n",
        "model.layers[-4].trainable = True\n",
        "model.layers[-5].trainable = True\n",
        "model.layers[-6].trainable = True\n",
        "model.layers[-7].trainable = True\n",
        "\n",
        "\n",
        "model.compile(\n",
        "    loss='binary_crossentropy', \n",
        "    optimizer=Adam(lr=1e-3),\n",
        "    metrics=['acc'])\n",
        "\n",
        "history = model.fit_generator(\n",
        "    data_gen(train, id_label_map, batch_size,  img_size_in, do_train_augmentations),\n",
        "    validation_data=data_gen(val, id_label_map, batch_size,img_size_in,do_inference_aug),\n",
        "    epochs=2, verbose=1,\n",
        "    callbacks=[checkpoint],\n",
        "    steps_per_epoch=len(train) // batch_size,\n",
        "    validation_steps=len(val) // batch_size)\n"
      ],
      "execution_count": 19,
      "outputs": [
        {
          "output_type": "stream",
          "text": [
            "Epoch 1/2\n",
            "6188/6188 [==============================] - 1253s 203ms/step - loss: 0.2223 - acc: 0.9163 - val_loss: 0.1649 - val_acc: 0.9399\n",
            "\n",
            "Epoch 00001: val_acc improved from -inf to 0.93987, saving model to FD-MobileNet_model.h5\n",
            "Epoch 2/2\n",
            "6188/6188 [==============================] - 1223s 198ms/step - loss: 0.2111 - acc: 0.9210 - val_loss: 0.1488 - val_acc: 0.9480\n",
            "\n",
            "Epoch 00002: val_acc improved from 0.93987 to 0.94798, saving model to FD-MobileNet_model.h5\n"
          ],
          "name": "stdout"
        }
      ]
    },
    {
      "cell_type": "code",
      "metadata": {
        "_uuid": "7a703f31ac14f5a43bd893877c6af7ade0326cab",
        "id": "5RhByZugJKL2",
        "colab_type": "code",
        "colab": {
          "base_uri": "https://localhost:8080/",
          "height": 799
        },
        "outputId": "8277d49f-505f-421d-9f9d-e4af786d15aa"
      },
      "source": [
        "\n",
        "\n",
        "# train all layers\n",
        "for layer in model.layers:\n",
        "    layer.trainable = True\n",
        "    \n",
        "model.load_weights(\"FD-MobileNet_model.h5\") \n",
        "    \n",
        "model.compile(loss='binary_crossentropy',\n",
        "            optimizer=Adam(lr=1e-4),\n",
        "            metrics=['accuracy'])\n",
        "\n",
        "batch_size=32\n",
        "\n",
        "\n",
        "history = model.fit_generator(\n",
        "    data_gen(train, id_label_map, batch_size,  img_size_in, do_train_augmentations),\n",
        "    validation_data=data_gen(val, id_label_map, batch_size,img_size_in,do_inference_aug),\n",
        "    epochs=20, verbose=1,\n",
        "    callbacks=callbacks,\n",
        "    steps_per_epoch=len(train) // batch_size,\n",
        "    validation_steps=len(val) // batch_size)\n",
        "\n"
      ],
      "execution_count": 0,
      "outputs": [
        {
          "output_type": "stream",
          "text": [
            "Epoch 1/20\n",
            "\n",
            "Epoch 00001: LearningRateScheduler setting learning rate to 0.0001.\n",
            "6188/6188 [==============================] - 1245s 201ms/step - loss: 0.1757 - acc: 0.9351 - val_loss: 0.1323 - val_acc: 0.9531\n",
            "\n",
            "Epoch 00001: val_acc improved from -inf to 0.95310, saving model to model.h5\n",
            "Epoch 2/20\n",
            "\n",
            "Epoch 00002: LearningRateScheduler setting learning rate to 0.0001.\n",
            "6188/6188 [==============================] - 1217s 197ms/step - loss: 0.1660 - acc: 0.9389 - val_loss: 0.1264 - val_acc: 0.9558\n",
            "\n",
            "Epoch 00002: val_acc improved from 0.95310 to 0.95581, saving model to model.h5\n",
            "Epoch 3/20\n",
            "\n",
            "Epoch 00003: LearningRateScheduler setting learning rate to 6e-05.\n",
            "6188/6188 [==============================] - 1209s 195ms/step - loss: 0.1610 - acc: 0.9416 - val_loss: 0.1229 - val_acc: 0.9573\n",
            "\n",
            "Epoch 00003: val_acc improved from 0.95581 to 0.95726, saving model to model.h5\n",
            "Epoch 4/20\n",
            "\n",
            "Epoch 00004: LearningRateScheduler setting learning rate to 6e-05.\n",
            "6188/6188 [==============================] - 1190s 192ms/step - loss: 0.1577 - acc: 0.9426 - val_loss: 0.1218 - val_acc: 0.9579\n",
            "\n",
            "Epoch 00004: val_acc improved from 0.95726 to 0.95790, saving model to model.h5\n",
            "Epoch 5/20\n",
            "\n",
            "Epoch 00005: LearningRateScheduler setting learning rate to 6e-05.\n",
            "6188/6188 [==============================] - 1171s 189ms/step - loss: 0.1568 - acc: 0.9438 - val_loss: 0.1209 - val_acc: 0.9578\n",
            "\n",
            "Epoch 00005: val_acc did not improve from 0.95790\n",
            "Epoch 6/20\n",
            "\n",
            "Epoch 00006: LearningRateScheduler setting learning rate to 3.6e-05.\n",
            "6188/6188 [==============================] - 1175s 190ms/step - loss: 0.1546 - acc: 0.9438 - val_loss: 0.1207 - val_acc: 0.9581\n",
            "\n",
            "Epoch 00006: val_acc improved from 0.95790 to 0.95808, saving model to model.h5\n",
            "Epoch 7/20\n",
            "\n",
            "Epoch 00007: LearningRateScheduler setting learning rate to 3.6e-05.\n",
            "6188/6188 [==============================] - 1170s 189ms/step - loss: 0.1523 - acc: 0.9446 - val_loss: 0.1196 - val_acc: 0.9587\n",
            "\n",
            "Epoch 00007: val_acc improved from 0.95808 to 0.95867, saving model to model.h5\n",
            "Epoch 8/20\n",
            "\n",
            "Epoch 00008: LearningRateScheduler setting learning rate to 3.6e-05.\n",
            "6066/6188 [============================>.] - ETA: 22s - loss: 0.1522 - acc: 0.9449"
          ],
          "name": "stdout"
        }
      ]
    },
    {
      "cell_type": "code",
      "metadata": {
        "_uuid": "dfd3c118d1646bb3eef817c42baa98e50632031b",
        "id": "tZrLDyIoJKL5",
        "colab_type": "code",
        "colab": {}
      },
      "source": [
        "#show_final_history(history)\n",
        "#print(\"Validation Accuracy: \" + str(history.history['val_acc'][-1:]))"
      ],
      "execution_count": 0,
      "outputs": []
    },
    {
      "cell_type": "code",
      "metadata": {
        "_uuid": "c4c3aef0882855069108497c0778f9b833793b5b",
        "id": "zZbkwuOFJKL8",
        "colab_type": "code",
        "colab": {}
      },
      "source": [
        "#predictions = model.predict_generator(roc_validation_generator, steps=len(roc_validation_generator), verbose=1)\n",
        "#false_positive_rate, true_positive_rate, threshold = roc_curve(roc_validation_generator.classes, predictions)\n",
        "#area_under_curve = auc(false_positive_rate, true_positive_rate)\n",
        "\n",
        "#plt.plot([0, 1], [0, 1], 'k--')\n",
        "#plt.plot(false_positive_rate, true_positive_rate, label='AUC = {:.3f}'.format(area_under_curve))\n",
        "#plt.xlabel('False positive rate')\n",
        "#plt.ylabel('True positive rate')\n",
        "#plt.title('ROC curve')\n",
        "#plt.legend(loc='best')\n",
        "#plt.savefig(ROC_PLOT_FILE, bbox_inches='tight')\n",
        "#plt.show()"
      ],
      "execution_count": 0,
      "outputs": []
    },
    {
      "cell_type": "code",
      "metadata": {
        "_uuid": "d399c51b099a414ef83e9b45a8bafab7206b1c24",
        "id": "iNplObjxJKL_",
        "colab_type": "code",
        "colab": {}
      },
      "source": [
        "preds = []\n",
        "ids = []"
      ],
      "execution_count": 0,
      "outputs": []
    },
    {
      "cell_type": "code",
      "metadata": {
        "_uuid": "787cec513417ebb2c703d48b0ba97e1c4344c8d7",
        "id": "iwdBiFzEJKMB",
        "colab_type": "code",
        "colab": {}
      },
      "source": [
        "for batch in chunker(test_files, batch_size):\n",
        "    X = [preprocess_input(cv2.resize(cv2.imread(x),(img_size_in,img_size_in))) for x in batch]\n",
        "    ids_batch = [get_id_from_file_path(x) for x in batch]\n",
        "    X = np.array(X)\n",
        "    preds_batch = ((model.predict(X).ravel()*model.predict(X[:, ::-1, :, :]).ravel()*model.predict(X[:, ::-1, ::-1, :]).ravel()*model.predict(X[:, :, ::-1, :]).ravel())**0.25).tolist()\n",
        "    preds += preds_batch\n",
        "    ids += ids_batch"
      ],
      "execution_count": 0,
      "outputs": []
    },
    {
      "cell_type": "code",
      "metadata": {
        "_uuid": "1b531bfe1d28a7bae83b74d9f857ae0f7029fdd2",
        "id": "pva_qzqLJKME",
        "colab_type": "code",
        "colab": {},
        "outputId": "4d3db3cf-d3be-4eab-a3cf-0221649fbd67"
      },
      "source": [
        "df = pd.DataFrame({'id':ids, 'label':preds})\n",
        "df.to_csv(\"baseline_FD-MobileNet.csv\", index=False)\n",
        "df.head()"
      ],
      "execution_count": 0,
      "outputs": [
        {
          "output_type": "execute_result",
          "data": {
            "text/html": [
              "<div>\n",
              "<style scoped>\n",
              "    .dataframe tbody tr th:only-of-type {\n",
              "        vertical-align: middle;\n",
              "    }\n",
              "\n",
              "    .dataframe tbody tr th {\n",
              "        vertical-align: top;\n",
              "    }\n",
              "\n",
              "    .dataframe thead th {\n",
              "        text-align: right;\n",
              "    }\n",
              "</style>\n",
              "<table border=\"1\" class=\"dataframe\">\n",
              "  <thead>\n",
              "    <tr style=\"text-align: right;\">\n",
              "      <th></th>\n",
              "      <th>id</th>\n",
              "      <th>label</th>\n",
              "    </tr>\n",
              "  </thead>\n",
              "  <tbody>\n",
              "    <tr>\n",
              "      <th>0</th>\n",
              "      <td>d3a0e75dd14a12773d7ad53bda6f1e1c5ba97f5c</td>\n",
              "      <td>0.885244</td>\n",
              "    </tr>\n",
              "    <tr>\n",
              "      <th>1</th>\n",
              "      <td>bdb69de941bb1dedf3d15564b39a67dec276f701</td>\n",
              "      <td>0.000919</td>\n",
              "    </tr>\n",
              "    <tr>\n",
              "      <th>2</th>\n",
              "      <td>371816c763c118a62ac1f4139f45806167c7e88b</td>\n",
              "      <td>0.011555</td>\n",
              "    </tr>\n",
              "    <tr>\n",
              "      <th>3</th>\n",
              "      <td>d18e5df26368164b4cd531941e489f2f19a5302d</td>\n",
              "      <td>0.680979</td>\n",
              "    </tr>\n",
              "    <tr>\n",
              "      <th>4</th>\n",
              "      <td>d57c22c04cd9c20540edff394de0f50fcdf55d0d</td>\n",
              "      <td>0.992982</td>\n",
              "    </tr>\n",
              "  </tbody>\n",
              "</table>\n",
              "</div>"
            ],
            "text/plain": [
              "                                         id     label\n",
              "0  d3a0e75dd14a12773d7ad53bda6f1e1c5ba97f5c  0.885244\n",
              "1  bdb69de941bb1dedf3d15564b39a67dec276f701  0.000919\n",
              "2  371816c763c118a62ac1f4139f45806167c7e88b  0.011555\n",
              "3  d18e5df26368164b4cd531941e489f2f19a5302d  0.680979\n",
              "4  d57c22c04cd9c20540edff394de0f50fcdf55d0d  0.992982"
            ]
          },
          "metadata": {
            "tags": []
          },
          "execution_count": 20
        }
      ]
    }
  ]
}